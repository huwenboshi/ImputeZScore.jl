{
 "cells": [
  {
   "cell_type": "markdown",
   "metadata": {},
   "source": [
    "# Imputation of association statistics in GWAS"
   ]
  },
  {
   "cell_type": "markdown",
   "metadata": {},
   "source": [
    "## Background\n",
    "\n",
    "In a traditional GWAS, one collects genotype data at a small subset of SNPs over some individuals, then imputes genotypes across the entire genome, and finally computes association statistics (e.g. Z-scores) for each genotyped and imputed SNPs. This procedure can take tremendous amount of time as genotype imputation is computationally extensive.\n",
    "\n",
    "Here, we impute Z-scores of ungenotyped SNPs directly from Z-scores of genotyped SNPs, without first performing genotype imputation, saving hundreds of hours of CPU time. The idea behind this approach is that Z-scores of genotyped and ungenotyped SNPs follow a multivariate normal distribution with LD matrix, which can be estimated from a reference panel, as the covariance structure -- one can impute the Z-scores of ungenotyped SNPs as the expectation of Z-scores of ungenotyped SNPs conditional on the Z-scores of genotyped SNPs.\n",
    "\n",
    "In detail, let $Z = (Z_t, Z_u)$ be the Z-score vector partitioned into two components, genotyped ($Z_t$) and ungenotyped ($Z_u$). It has been previously shown that $Z$ has the following distribution,\n",
    "$$\n",
    "\\left[\n",
    "\\begin{array}{c}\n",
    "Z_t \\\\\n",
    "Z_u\n",
    "\\end{array}\n",
    "\\right]\n",
    "\\sim\n",
    "MVN\n",
    "\\left(\n",
    "\\left[\n",
    "\\begin{array}{c}\n",
    "\\Lambda_t \\\\\n",
    "\\Lambda_u\n",
    "\\end{array}\n",
    "\\right]\n",
    ",\n",
    "\\left[\n",
    "\\begin{array}{cc}\n",
    "\\Sigma_{tt} & \\Sigma_{tu}\\\\\n",
    "\\Sigma_{ut} & \\Sigma_{uu}\n",
    "\\end{array}\n",
    "\\right]\n",
    "\\right),\n",
    "$$\n",
    "where $\\Lambda = (\\Lambda_t, \\Lambda_u)$ is the non-centrality parameter, $\\Sigma_{tt}$ the LD between genotyped SNPs, $\\Sigma_{tu}$ the LD between genotyped and ungenotyped SNPs, $\\Sigma_{uu}$ the LD between ungenotyped SNPs.\n",
    "\n",
    "The conditional expectation of $Z_u$ given $Z_t$ is then\n",
    "$$\n",
    "Z_u | Z_t\n",
    "\\sim\n",
    "MVN\n",
    "\\left(\n",
    "\\Lambda_u + \\Sigma_{ut} \\Sigma^{-1}_{tt} Z_t\n",
    ",\n",
    "\\Sigma_{uu} - \\Sigma_{ut} \\Sigma^{-1}_{tt} \\Sigma_{tu}\n",
    "\\right).\n",
    "$$\n",
    "\n",
    "We impute the Z-scores of ungenotyped SNPs as $\\hat{Z}_u = E[Z_u | Z_t] = \\Sigma_{ut} \\Sigma^{-1}_{tt} Z_t$ under the null assumption that $\\Lambda_u = 0$. Let $W = \\Sigma_{ut} \\Sigma^{-1}_{tt}$. This can be viewed as the weights on Z-scores of genotyped SNPs in the imputation of Z-scores of ungenotyped SNPs. Then \n",
    "$$\n",
    "\\hat{Z}_u \\sim MVN (0, \\Sigma_{ut} \\Sigma^{-1}_{tt} \\Sigma_{tu}),\n",
    "$$\n",
    "where each entry $\\hat{Z}_{u,i}$ of $\\hat{Z}_u$ follows\n",
    "$$\n",
    "\\hat{Z}_{u,i} \\sim N (0, \\Sigma_{ut,i*} \\Sigma^{-1}_{tt} \\Sigma_{tu,*i}).\n",
    "$$\n",
    "Here, $\\Sigma_{ut,i*}$ denotes the $i$-th row of $\\Sigma_{ut}$ and $\\Sigma_{tu,*i}$ the $i$-th column of $\\Sigma_{tu}$. To obtain a associations statistics that has mean 0 and variance 1, we standardize $\\hat{Z}_{u,i}$ by $\\sqrt{\\Sigma_{ut,i*} \\Sigma^{-1}_{tt} \\Sigma_{tu,*i}}$. More specifically, the final imputated association statistics of each SNP is\n",
    "$$\n",
    "\\hat{Z}_{imp,i} = {\\hat{Z}_{u,i} \\over \\sqrt{\\Sigma_{ut,i*} \\Sigma^{-1}_{tt} \\Sigma_{tu,*i}}}\n",
    "\\sim N(0, 1).\n",
    "$$\n",
    "\n",
    "In practice, inverting a large matrix can be time-consuming. Instead, we adopt a window-based approach, i.e. we impute Z-scores of ungenotyped SNPs one window at a time."
   ]
  },
  {
   "cell_type": "markdown",
   "metadata": {},
   "source": [
    "# Example"
   ]
  },
  {
   "cell_type": "code",
   "execution_count": 1,
   "metadata": {
    "collapsed": true
   },
   "outputs": [],
   "source": [
    "# load in required packages\n",
    "include(\"../src/ImputeZScore.jl\")\n",
    "using DataFrames, .ImputeZScore, SnpArrays"
   ]
  },
  {
   "cell_type": "code",
   "execution_count": 2,
   "metadata": {},
   "outputs": [
    {
     "data": {
      "text/html": [
       "<table class=\"data-frame\"><thead><tr><th></th><th>rsID</th><th>pos</th><th>A0</th><th>A1</th><th>Z</th></tr></thead><tbody><tr><th>1</th><td>rs5746647</td><td>17057138</td><td>G</td><td>T</td><td>1.9927</td></tr><tr><th>2</th><td>rs5747968</td><td>17067504</td><td>G</td><td>T</td><td>3.07937</td></tr><tr><th>3</th><td>rs2236639</td><td>17072483</td><td>A</td><td>G</td><td>2.16346</td></tr><tr><th>4</th><td>rs5746679</td><td>17080378</td><td>A</td><td>G</td><td>2.58537</td></tr><tr><th>5</th><td>rs11089263</td><td>17087656</td><td>C</td><td>A</td><td>0.5</td></tr><tr><th>6</th><td>rs2096537</td><td>17094749</td><td>A</td><td>C</td><td>-0.291139</td></tr><tr><th>7</th><td>rs4819849</td><td>17152611</td><td>A</td><td>G</td><td>2.12903</td></tr><tr><th>8</th><td>rs2845379</td><td>17202602</td><td>T</td><td>C</td><td>-0.0188679</td></tr><tr><th>9</th><td>rs2845346</td><td>17214252</td><td>C</td><td>T</td><td>-0.144928</td></tr><tr><th>10</th><td>rs1807512</td><td>17221495</td><td>T</td><td>C</td><td>0.190476</td></tr><tr><th>11</th><td>rs5748593</td><td>17227461</td><td>T</td><td>C</td><td>-0.028169</td></tr><tr><th>12</th><td>rs4819535</td><td>17278762</td><td>T</td><td>C</td><td>0.240385</td></tr><tr><th>13</th><td>rs175140</td><td>17306104</td><td>T</td><td>G</td><td>-1.08451</td></tr><tr><th>14</th><td>rs175145</td><td>17308241</td><td>A</td><td>G</td><td>-0.125</td></tr><tr><th>15</th><td>rs175147</td><td>17309362</td><td>G</td><td>T</td><td>0.265306</td></tr><tr><th>16</th><td>rs175149</td><td>17310741</td><td>A</td><td>G</td><td>0.0816327</td></tr><tr><th>17</th><td>rs17363716</td><td>17315102</td><td>T</td><td>C</td><td>-0.0892857</td></tr><tr><th>18</th><td>rs175154</td><td>17326668</td><td>A</td><td>G</td><td>0.147541</td></tr><tr><th>19</th><td>rs165890</td><td>17328627</td><td>T</td><td>C</td><td>0.147541</td></tr><tr><th>20</th><td>rs738043</td><td>17353947</td><td>G</td><td>A</td><td>-0.245614</td></tr><tr><th>21</th><td>rs16981833</td><td>17396459</td><td>C</td><td>T</td><td>-0.119403</td></tr><tr><th>22</th><td>rs759081</td><td>17405173</td><td>T</td><td>C</td><td>1.30159</td></tr><tr><th>23</th><td>rs11703901</td><td>17407566</td><td>C</td><td>T</td><td>-0.273973</td></tr><tr><th>24</th><td>rs9306242</td><td>17411899</td><td>A</td><td>G</td><td>1.19608</td></tr><tr><th>25</th><td>rs5748760</td><td>17434084</td><td>A</td><td>G</td><td>0.481481</td></tr><tr><th>26</th><td>rs5748762</td><td>17434521</td><td>T</td><td>C</td><td>-0.0135135</td></tr><tr><th>27</th><td>rs757630</td><td>17452966</td><td>T</td><td>C</td><td>-0.366667</td></tr><tr><th>28</th><td>rs4819934</td><td>17467411</td><td>G</td><td>A</td><td>-0.595238</td></tr><tr><th>29</th><td>rs4819935</td><td>17467474</td><td>C</td><td>A</td><td>0.296296</td></tr><tr><th>30</th><td>rs5992604</td><td>17469026</td><td>G</td><td>A</td><td>0.843137</td></tr><tr><th>&vellip;</th><td>&vellip;</td><td>&vellip;</td><td>&vellip;</td><td>&vellip;</td><td>&vellip;</td></tr></tbody></table>"
      ],
      "text/plain": [
       "3000×5 DataFrames.DataFrame\n",
       "│ Row  │ rsID         │ pos      │ A0  │ A1  │ Z          │\n",
       "├──────┼──────────────┼──────────┼─────┼─────┼────────────┤\n",
       "│ 1    │ \"rs5746647\"  │ 17057138 │ \"G\" │ \"T\" │ 1.9927     │\n",
       "│ 2    │ \"rs5747968\"  │ 17067504 │ \"G\" │ \"T\" │ 3.07937    │\n",
       "│ 3    │ \"rs2236639\"  │ 17072483 │ \"A\" │ \"G\" │ 2.16346    │\n",
       "│ 4    │ \"rs5746679\"  │ 17080378 │ \"A\" │ \"G\" │ 2.58537    │\n",
       "│ 5    │ \"rs11089263\" │ 17087656 │ \"C\" │ \"A\" │ 0.5        │\n",
       "│ 6    │ \"rs2096537\"  │ 17094749 │ \"A\" │ \"C\" │ -0.291139  │\n",
       "│ 7    │ \"rs4819849\"  │ 17152611 │ \"A\" │ \"G\" │ 2.12903    │\n",
       "│ 8    │ \"rs2845379\"  │ 17202602 │ \"T\" │ \"C\" │ -0.0188679 │\n",
       "│ 9    │ \"rs2845346\"  │ 17214252 │ \"C\" │ \"T\" │ -0.144928  │\n",
       "│ 10   │ \"rs1807512\"  │ 17221495 │ \"T\" │ \"C\" │ 0.190476   │\n",
       "│ 11   │ \"rs5748593\"  │ 17227461 │ \"T\" │ \"C\" │ -0.028169  │\n",
       "⋮\n",
       "│ 2989 │ \"rs6010023\"  │ 51028202 │ \"C\" │ \"T\" │ -0.731959  │\n",
       "│ 2990 │ \"rs140510\"   │ 51052379 │ \"T\" │ \"C\" │ 0.0384615  │\n",
       "│ 2991 │ \"rs131729\"   │ 51053719 │ \"T\" │ \"C\" │ 0.581818   │\n",
       "│ 2992 │ \"rs3091400\"  │ 51059118 │ \"G\" │ \"T\" │ -0.344828  │\n",
       "│ 2993 │ \"rs8142033\"  │ 51062832 │ \"G\" │ \"A\" │ 1.18462    │\n",
       "│ 2994 │ \"rs9616812\"  │ 51105556 │ \"C\" │ \"T\" │ -1.625     │\n",
       "│ 2995 │ \"rs2341009\"  │ 51133580 │ \"C\" │ \"A\" │ -1.13433   │\n",
       "│ 2996 │ \"rs736334\"   │ 51139178 │ \"C\" │ \"T\" │ 0.278689   │\n",
       "│ 2997 │ \"rs6010063\"  │ 51156933 │ \"A\" │ \"G\" │ 0.44       │\n",
       "│ 2998 │ \"rs8137951\"  │ 51165664 │ \"G\" │ \"A\" │ -0.368421  │\n",
       "│ 2999 │ \"rs3810648\"  │ 51175626 │ \"A\" │ \"G\" │ 0.415842   │\n",
       "│ 3000 │ \"rs2238837\"  │ 51212875 │ \"A\" │ \"C\" │ 0.448718   │"
      ]
     },
     "execution_count": 2,
     "metadata": {},
     "output_type": "execute_result"
    }
   ],
   "source": [
    "# read in z-scores of genotyped SNPs on chromosome 22 as a data frame\n",
    "zsc_t = readtable(\"./hdl_chr22_typed.zsc\", separator=' ')"
   ]
  },
  {
   "cell_type": "code",
   "execution_count": 3,
   "metadata": {},
   "outputs": [
    {
     "name": "stdout",
     "output_type": "stream",
     "text": [
      "(3000,5)\n"
     ]
    }
   ],
   "source": [
    "# there are only 3000 genotyped SNPs\n",
    "println(size(zsc_t))"
   ]
  },
  {
   "cell_type": "code",
   "execution_count": 4,
   "metadata": {},
   "outputs": [],
   "source": [
    "# read in reference panel from 1000 genomes project for chromosome 22\n",
    "refpanel = SnpData(\"./1000G.EUR.22\");"
   ]
  },
  {
   "cell_type": "code",
   "execution_count": 5,
   "metadata": {},
   "outputs": [
    {
     "name": "stdout",
     "output_type": "stream",
     "text": [
      "(489,17489)\n"
     ]
    }
   ],
   "source": [
    "# the reference panel has 17,489 SNPs on chromosome 22\n",
    "println(size(refpanel.snpmatrix))"
   ]
  },
  {
   "cell_type": "code",
   "execution_count": 6,
   "metadata": {},
   "outputs": [
    {
     "name": "stdout",
     "output_type": "stream",
     "text": [
      " 12.159418 seconds (56.25 M allocations: 1.758 GB, 3.29% gc time)\n"
     ]
    },
    {
     "data": {
      "text/html": [
       "<table class=\"data-frame\"><thead><tr><th></th><th>rsID</th><th>pos</th><th>A0</th><th>A1</th><th>Z</th><th>r2pred</th></tr></thead><tbody><tr><th>1</th><td>rs2379981</td><td>17030792</td><td>G</td><td>A</td><td>1.92311081771678</td><td>0.7058953255506147</td></tr><tr><th>2</th><td>rs4535153</td><td>17031072</td><td>C</td><td>T</td><td>1.92311081771678</td><td>0.7058953255506147</td></tr><tr><th>3</th><td>rs9605903</td><td>17054720</td><td>C</td><td>T</td><td>2.0701431882270103</td><td>0.7408140292495196</td></tr><tr><th>4</th><td>rs5747988</td><td>17073066</td><td>A</td><td>G</td><td>2.1420214615367983</td><td>0.8888470136086104</td></tr><tr><th>5</th><td>rs5746664</td><td>17074622</td><td>A</td><td>C</td><td>2.2380129833458775</td><td>0.9145446940729179</td></tr><tr><th>6</th><td>rs2070501</td><td>17084609</td><td>A</td><td>G</td><td>0.345275873016319</td><td>0.9150176620818633</td></tr><tr><th>7</th><td>rs16984366</td><td>17096864</td><td>C</td><td>T</td><td>-1.9453553255953884</td><td>0.7214178549189546</td></tr><tr><th>8</th><td>rs8137637</td><td>17103717</td><td>G</td><td>T</td><td>-1.9810206754861308</td><td>0.7292560905519018</td></tr><tr><th>9</th><td>rs4410381</td><td>17107266</td><td>A</td><td>G</td><td>-2.103212138721683</td><td>0.7331804789915228</td></tr><tr><th>10</th><td>rs5993671</td><td>17116398</td><td>G</td><td>T</td><td>-0.24647770341008562</td><td>0.8940490578545027</td></tr><tr><th>11</th><td>rs5992472</td><td>17132490</td><td>G</td><td>A</td><td>-0.26996313342198675</td><td>0.8868244709932277</td></tr><tr><th>12</th><td>rs2845380</td><td>17203103</td><td>A</td><td>G</td><td>0.045466260647260864</td><td>0.7727820067090998</td></tr><tr><th>13</th><td>rs2247281</td><td>17211075</td><td>G</td><td>A</td><td>-0.07401156669313493</td><td>0.9156125861351687</td></tr><tr><th>14</th><td>rs2845347</td><td>17214669</td><td>C</td><td>T</td><td>-0.09253199344442047</td><td>0.9428886279471816</td></tr><tr><th>15</th><td>rs4390844</td><td>17231603</td><td>C</td><td>T</td><td>0.7410220831887137</td><td>0.6961808590736567</td></tr><tr><th>16</th><td>rs2381107</td><td>17239552</td><td>C</td><td>T</td><td>0.2633772296135121</td><td>0.6394482967442773</td></tr><tr><th>17</th><td>rs5748648</td><td>17280822</td><td>A</td><td>G</td><td>-0.10060948741991507</td><td>0.8518279053192167</td></tr><tr><th>18</th><td>rs738045</td><td>17281931</td><td>A</td><td>G</td><td>0.10738651055511578</td><td>0.8244300089032515</td></tr><tr><th>19</th><td>rs7284996</td><td>17284065</td><td>C</td><td>T</td><td>0.10738651055511578</td><td>0.8244300089032515</td></tr><tr><th>20</th><td>rs2385714</td><td>17285949</td><td>C</td><td>T</td><td>-0.9956239466567737</td><td>0.7088901482261585</td></tr><tr><th>21</th><td>rs2080203</td><td>17286329</td><td>G</td><td>T</td><td>0.17450968012134827</td><td>0.8518452698725297</td></tr><tr><th>22</th><td>rs5748657</td><td>17288220</td><td>C</td><td>T</td><td>0.7997371875945058</td><td>0.784285177238425</td></tr><tr><th>23</th><td>rs2072466</td><td>17289118</td><td>C</td><td>T</td><td>0.8799694822807024</td><td>0.7912457882749073</td></tr><tr><th>24</th><td>rs7291429</td><td>17294251</td><td>G</td><td>T</td><td>0.25424137142936526</td><td>0.8098621845147801</td></tr><tr><th>25</th><td>rs9605155</td><td>17299901</td><td>T</td><td>G</td><td>-0.011805023459524496</td><td>0.848676010258735</td></tr><tr><th>26</th><td>rs5748664</td><td>17300320</td><td>A</td><td>G</td><td>-0.45691956406143375</td><td>0.677244267817914</td></tr><tr><th>27</th><td>rs874835</td><td>17301217</td><td>G</td><td>A</td><td>-0.011805023459524496</td><td>0.848676010258735</td></tr><tr><th>28</th><td>rs874836</td><td>17301843</td><td>A</td><td>G</td><td>-0.26441949970169615</td><td>0.8893197944566413</td></tr><tr><th>29</th><td>rs5994031</td><td>17303383</td><td>C</td><td>T</td><td>-0.5764153539089649</td><td>0.8725307661047459</td></tr><tr><th>30</th><td>rs2215842</td><td>17303469</td><td>C</td><td>T</td><td>-0.5685600569330819</td><td>0.8632124032798775</td></tr><tr><th>&vellip;</th><td>&vellip;</td><td>&vellip;</td><td>&vellip;</td><td>&vellip;</td><td>&vellip;</td><td>&vellip;</td></tr></tbody></table>"
      ],
      "text/plain": [
       "10268×6 DataFrames.DataFrame\n",
       "│ Row   │ rsID         │ pos      │ A0  │ A1  │ Z          │ r2pred   │\n",
       "├───────┼──────────────┼──────────┼─────┼─────┼────────────┼──────────┤\n",
       "│ 1     │ \"rs2379981\"  │ 17030792 │ \"G\" │ \"A\" │ 1.92311    │ 0.705895 │\n",
       "│ 2     │ \"rs4535153\"  │ 17031072 │ \"C\" │ \"T\" │ 1.92311    │ 0.705895 │\n",
       "│ 3     │ \"rs9605903\"  │ 17054720 │ \"C\" │ \"T\" │ 2.07014    │ 0.740814 │\n",
       "│ 4     │ \"rs5747988\"  │ 17073066 │ \"A\" │ \"G\" │ 2.14202    │ 0.888847 │\n",
       "│ 5     │ \"rs5746664\"  │ 17074622 │ \"A\" │ \"C\" │ 2.23801    │ 0.914545 │\n",
       "│ 6     │ \"rs2070501\"  │ 17084609 │ \"A\" │ \"G\" │ 0.345276   │ 0.915018 │\n",
       "│ 7     │ \"rs16984366\" │ 17096864 │ \"C\" │ \"T\" │ -1.94536   │ 0.721418 │\n",
       "│ 8     │ \"rs8137637\"  │ 17103717 │ \"G\" │ \"T\" │ -1.98102   │ 0.729256 │\n",
       "│ 9     │ \"rs4410381\"  │ 17107266 │ \"A\" │ \"G\" │ -2.10321   │ 0.73318  │\n",
       "│ 10    │ \"rs5993671\"  │ 17116398 │ \"G\" │ \"T\" │ -0.246478  │ 0.894049 │\n",
       "│ 11    │ \"rs5992472\"  │ 17132490 │ \"G\" │ \"A\" │ -0.269963  │ 0.886824 │\n",
       "⋮\n",
       "│ 10257 │ \"rs762672\"   │ 51064818 │ \"T\" │ \"C\" │ -0.0281581 │ 0.859197 │\n",
       "│ 10258 │ \"rs10854884\" │ 51101899 │ \"A\" │ \"C\" │ 1.52138    │ 0.818583 │\n",
       "│ 10259 │ \"rs8138460\"  │ 51103692 │ \"G\" │ \"A\" │ 1.68241    │ 0.837635 │\n",
       "│ 10260 │ \"rs9616906\"  │ 51104680 │ \"A\" │ \"G\" │ 1.64511    │ 0.851399 │\n",
       "│ 10261 │ \"rs9628185\"  │ 51109992 │ \"C\" │ \"T\" │ 1.55364    │ 0.908213 │\n",
       "│ 10262 │ \"rs9616915\"  │ 51117580 │ \"T\" │ \"C\" │ -1.57798   │ 0.820481 │\n",
       "│ 10263 │ \"rs9616816\"  │ 51123505 │ \"A\" │ \"G\" │ -0.350208  │ 0.805102 │\n",
       "│ 10264 │ \"rs739365\"   │ 51140316 │ \"T\" │ \"C\" │ -0.516951  │ 0.679435 │\n",
       "│ 10265 │ \"rs10451\"    │ 51162059 │ \"A\" │ \"G\" │ 0.18436    │ 0.904821 │\n",
       "│ 10266 │ \"rs715586\"   │ 51163138 │ \"T\" │ \"C\" │ -0.778781  │ 0.658237 │\n",
       "│ 10267 │ \"rs2285395\"  │ 51178090 │ \"A\" │ \"G\" │ -0.374061  │ 0.855836 │\n",
       "│ 10268 │ \"rs3865766\"  │ 51186228 │ \"T\" │ \"C\" │ -0.473425  │ 0.735647 │"
      ]
     },
     "execution_count": 6,
     "metadata": {},
     "output_type": "execute_result"
    }
   ],
   "source": [
    "# perform imputation using the method described above\n",
    "# this will take less than 20 seconds\n",
    "@time zsc_imp = impute_zscore(zsc_t, refpanel)"
   ]
  },
  {
   "cell_type": "code",
   "execution_count": 7,
   "metadata": {},
   "outputs": [
    {
     "name": "stdout",
     "output_type": "stream",
     "text": [
      "(10268,6)\n"
     ]
    }
   ],
   "source": [
    "# the imputed data set has much more SNPs\n",
    "# the last column r2pred is a measure of imputation accuracy\n",
    "# note that this module filters out poorly imputed SNPs (r2pred < 0.6) by default\n",
    "println(size(zsc_imp))"
   ]
  },
  {
   "cell_type": "code",
   "execution_count": 8,
   "metadata": {},
   "outputs": [],
   "source": [
    "# now let's compare the imputed z-scores with the z-scores obtained by first\n",
    "# performing a genotype imputation\n",
    "zsc_full = readtable(\"./hdl_chr22_full.zsc\", separator=' ');\n",
    "\n",
    "# this removes SNPs with duplicated SNP ID and position and makes the\n",
    "# sign consistent\n",
    "snp_legend = DataFrame(rsID = refpanel.snpid, pos = refpanel.basepairs,\n",
    "    A0 = refpanel.allele1, A1 = refpanel.allele2)\n",
    "filter_input!(zsc_full, snp_legend)"
   ]
  },
  {
   "cell_type": "code",
   "execution_count": 9,
   "metadata": {},
   "outputs": [
    {
     "name": "stdout",
     "output_type": "stream",
     "text": [
      "7444×10 DataFrames.DataFrame\n",
      "│ Row  │ rsID        │ pos      │ A0  │ A1  │ Z          │ pos_1    │ A0_1 │\n",
      "├──────┼─────────────┼──────────┼─────┼─────┼────────────┼──────────┼──────┤\n",
      "│ 1    │ \"rs1000427\" │ 36890105 │ \"G\" │ \"A\" │ -0.697368  │ 36890105 │ \"A\"  │\n",
      "│ 2    │ \"rs1000815\" │ 26831077 │ \"A\" │ \"G\" │ 0.166667   │ 26831077 │ \"A\"  │\n",
      "│ 3    │ \"rs1001021\" │ 26403599 │ \"G\" │ \"A\" │ -0.290598  │ 26403599 │ \"A\"  │\n",
      "│ 4    │ \"rs1001213\" │ 34131736 │ \"G\" │ \"A\" │ 1.66346    │ 34131736 │ \"A\"  │\n",
      "│ 5    │ \"rs1001586\" │ 42670293 │ \"G\" │ \"T\" │ 0.516667   │ 42670293 │ \"T\"  │\n",
      "│ 6    │ \"rs1001587\" │ 42670111 │ \"C\" │ \"T\" │ 0.516667   │ 42670111 │ \"T\"  │\n",
      "│ 7    │ \"rs1001794\" │ 32850930 │ \"C\" │ \"T\" │ -0.163636  │ 32850930 │ \"T\"  │\n",
      "│ 8    │ \"rs1001896\" │ 19032215 │ \"G\" │ \"A\" │ -0.580645  │ 19032215 │ \"A\"  │\n",
      "│ 9    │ \"rs1002048\" │ 34253393 │ \"G\" │ \"T\" │ 1.2        │ 34253393 │ \"G\"  │\n",
      "│ 10   │ \"rs1002189\" │ 30771458 │ \"T\" │ \"C\" │ -1.69643   │ 30771458 │ \"C\"  │\n",
      "│ 11   │ \"rs1003480\" │ 31346752 │ \"A\" │ \"G\" │ -0.1875    │ 31346752 │ \"A\"  │\n",
      "⋮\n",
      "│ 7433 │ \"rs9941935\" │ 22015144 │ \"A\" │ \"G\" │ 2.8        │ 22015144 │ \"G\"  │\n",
      "│ 7434 │ \"rs9941962\" │ 40172198 │ \"A\" │ \"G\" │ -0.525641  │ 40172198 │ \"G\"  │\n",
      "│ 7435 │ \"rs9941971\" │ 26051000 │ \"T\" │ \"C\" │ 1.15238    │ 26051000 │ \"C\"  │\n",
      "│ 7436 │ \"rs9956\"    │ 32015450 │ \"T\" │ \"G\" │ 1.31481    │ 32015450 │ \"G\"  │\n",
      "│ 7437 │ \"rs9967\"    │ 18211205 │ \"T\" │ \"C\" │ 1.08333    │ 18211205 │ \"C\"  │\n",
      "│ 7438 │ \"rs997120\"  │ 33108536 │ \"C\" │ \"T\" │ -0.102564  │ 33108536 │ \"T\"  │\n",
      "│ 7439 │ \"rs997379\"  │ 35274298 │ \"G\" │ \"T\" │ 0.270833   │ 35274298 │ \"G\"  │\n",
      "│ 7440 │ \"rs9983\"    │ 30423744 │ \"G\" │ \"A\" │ 0.461538   │ 30423744 │ \"A\"  │\n",
      "│ 7441 │ \"rs998482\"  │ 41108135 │ \"G\" │ \"A\" │ -0.179104  │ 41108135 │ \"A\"  │\n",
      "│ 7442 │ \"rs9985182\" │ 45539841 │ \"G\" │ \"T\" │ -0.0392157 │ 45539841 │ \"T\"  │\n",
      "│ 7443 │ \"rs999540\"  │ 37121101 │ \"G\" │ \"A\" │ 0.174603   │ 37121101 │ \"A\"  │\n",
      "│ 7444 │ \"rs9997\"    │ 20796175 │ \"T\" │ \"C\" │ 0.7        │ 20796175 │ \"C\"  │\n",
      "\n",
      "│ Row  │ A1_1 │ Z_1         │ r2pred   │\n",
      "├──────┼──────┼─────────────┼──────────┤\n",
      "│ 1    │ \"G\"  │ -0.728381   │ 0.924804 │\n",
      "│ 2    │ \"G\"  │ -0.210362   │ 0.942315 │\n",
      "│ 3    │ \"G\"  │ -0.476867   │ 0.903856 │\n",
      "│ 4    │ \"G\"  │ 1.24971     │ 0.911577 │\n",
      "│ 5    │ \"G\"  │ 0.440369    │ 0.979745 │\n",
      "│ 6    │ \"C\"  │ 0.473304    │ 0.976182 │\n",
      "│ 7    │ \"C\"  │ 0.086738    │ 0.897738 │\n",
      "│ 8    │ \"G\"  │ -0.530442   │ 0.894444 │\n",
      "│ 9    │ \"T\"  │ 1.20897     │ 0.905532 │\n",
      "│ 10   │ \"T\"  │ -1.8985     │ 0.963061 │\n",
      "│ 11   │ \"G\"  │ -0.0941326  │ 0.942817 │\n",
      "⋮\n",
      "│ 7433 │ \"A\"  │ 2.83774     │ 0.817645 │\n",
      "│ 7434 │ \"A\"  │ -0.706095   │ 0.974607 │\n",
      "│ 7435 │ \"T\"  │ 1.11075     │ 0.959307 │\n",
      "│ 7436 │ \"T\"  │ 0.948379    │ 0.956148 │\n",
      "│ 7437 │ \"T\"  │ 1.30208     │ 0.914667 │\n",
      "│ 7438 │ \"C\"  │ -1.09414    │ 0.809205 │\n",
      "│ 7439 │ \"T\"  │ 0.451928    │ 0.957169 │\n",
      "│ 7440 │ \"G\"  │ 0.416925    │ 0.976849 │\n",
      "│ 7441 │ \"G\"  │ -0.0895031  │ 0.971362 │\n",
      "│ 7442 │ \"G\"  │ -0.0544267  │ 0.859937 │\n",
      "│ 7443 │ \"G\"  │ -0.00408845 │ 0.79141  │\n",
      "│ 7444 │ \"T\"  │ 0.850073    │ 0.952408 │\n"
     ]
    }
   ],
   "source": [
    "# match z-scores based on SNP ID\n",
    "zsc_matched = join(zsc_full, zsc_imp, on=:rsID)\n",
    "println(zsc_matched)"
   ]
  },
  {
   "cell_type": "code",
   "execution_count": 11,
   "metadata": {
    "scrolled": true
   },
   "outputs": [
    {
     "data": {
      "image/png": "[encoded data removed]",
      "text/plain": [
       "PyPlot.Figure(PyObject <matplotlib.figure.Figure object at 0x7f90ed9b8e90>)"
      ]
     },
     "metadata": {},
     "output_type": "display_data"
    },
    {
     "data": {
      "text/plain": [
       "PyObject <matplotlib.text.Text object at 0x7f90ed6fbbd0>"
      ]
     },
     "execution_count": 11,
     "metadata": {},
     "output_type": "execute_result"
    }
   ],
   "source": [
    "# make scatter plot comparing the z-scores obtained through different methods\n",
    "using PyPlot\n",
    "scatter(zsc_matched[:Z], zsc_matched[:Z_1], color=\"blue\")\n",
    "plot([-10, 6], [-10, 6], color=\"black\", linestyle=\"--\", label=\"y=x\")\n",
    "legend(loc=2)\n",
    "xlim([-10, 6]); ylim([-10, 6])\n",
    "xlabel(\"Z-score obtained through genotype imputation\")\n",
    "ylabel(\"Z-score obtained through MVN imputation\")\n",
    "title(\"R = \" * string(round(cor(zsc_matched[:Z], zsc_matched[:Z_1]),2)))"
   ]
  },
  {
   "cell_type": "code",
   "execution_count": null,
   "metadata": {
    "collapsed": true
   },
   "outputs": [],
   "source": []
  }
 ],
 "metadata": {
  "kernelspec": {
   "display_name": "Julia 0.5.2",
   "language": "julia",
   "name": "julia-0.5"
  },
  "language_info": {
   "file_extension": ".jl",
   "mimetype": "application/julia",
   "name": "julia",
   "version": "0.5.2"
  }
 },
 "nbformat": 4,
 "nbformat_minor": 2
}
